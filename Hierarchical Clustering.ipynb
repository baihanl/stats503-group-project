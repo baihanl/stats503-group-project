{
 "cells": [
  {
   "cell_type": "code",
   "execution_count": 1,
   "id": "ff58d43e",
   "metadata": {},
   "outputs": [],
   "source": [
    "import numpy as np\n",
    "import pandas as pd\n",
    "import seaborn as sns\n",
    "import sklearn\n",
    "import matplotlib.pyplot as plt\n",
    "import scipy.cluster.hierarchy as hc"
   ]
  },
  {
   "cell_type": "markdown",
   "id": "0551b50f",
   "metadata": {},
   "source": [
    "First, we use hierarchical clustering to visualize the correlations between different variables."
   ]
  },
  {
   "cell_type": "code",
   "execution_count": 2,
   "id": "5b8bd15b",
   "metadata": {},
   "outputs": [],
   "source": [
    "heart_data = pd.read_csv('data_cleaned.csv')"
   ]
  },
  {
   "cell_type": "code",
   "execution_count": 3,
   "id": "6bcfe6e7",
   "metadata": {},
   "outputs": [
    {
     "data": {
      "text/html": [
       "<div>\n",
       "<style scoped>\n",
       "    .dataframe tbody tr th:only-of-type {\n",
       "        vertical-align: middle;\n",
       "    }\n",
       "\n",
       "    .dataframe tbody tr th {\n",
       "        vertical-align: top;\n",
       "    }\n",
       "\n",
       "    .dataframe thead th {\n",
       "        text-align: right;\n",
       "    }\n",
       "</style>\n",
       "<table border=\"1\" class=\"dataframe\">\n",
       "  <thead>\n",
       "    <tr style=\"text-align: right;\">\n",
       "      <th></th>\n",
       "      <th>HeartDisease</th>\n",
       "      <th>BMI</th>\n",
       "      <th>Smoking</th>\n",
       "      <th>AlcoholDrinking</th>\n",
       "      <th>Stroke</th>\n",
       "      <th>PhysicalHealth</th>\n",
       "      <th>MentalHealth</th>\n",
       "      <th>DiffWalking</th>\n",
       "      <th>Sex</th>\n",
       "      <th>AgeCategory</th>\n",
       "      <th>Race</th>\n",
       "      <th>Diabetic</th>\n",
       "      <th>PhysicalActivity</th>\n",
       "      <th>GenHealth</th>\n",
       "      <th>SleepTime</th>\n",
       "      <th>Asthma</th>\n",
       "      <th>KidneyDisease</th>\n",
       "      <th>SkinCancer</th>\n",
       "    </tr>\n",
       "  </thead>\n",
       "  <tbody>\n",
       "    <tr>\n",
       "      <th>HeartDisease</th>\n",
       "      <td>1.000000</td>\n",
       "      <td>0.051803</td>\n",
       "      <td>0.107764</td>\n",
       "      <td>-0.032080</td>\n",
       "      <td>0.196835</td>\n",
       "      <td>0.170721</td>\n",
       "      <td>0.028591</td>\n",
       "      <td>0.201258</td>\n",
       "      <td>0.070040</td>\n",
       "      <td>0.233432</td>\n",
       "      <td>0.034854</td>\n",
       "      <td>0.168553</td>\n",
       "      <td>-0.100030</td>\n",
       "      <td>-0.011062</td>\n",
       "      <td>0.008327</td>\n",
       "      <td>0.041444</td>\n",
       "      <td>0.145197</td>\n",
       "      <td>0.093317</td>\n",
       "    </tr>\n",
       "    <tr>\n",
       "      <th>BMI</th>\n",
       "      <td>0.051803</td>\n",
       "      <td>1.000000</td>\n",
       "      <td>0.023118</td>\n",
       "      <td>-0.038816</td>\n",
       "      <td>0.019733</td>\n",
       "      <td>0.109788</td>\n",
       "      <td>0.064131</td>\n",
       "      <td>0.181678</td>\n",
       "      <td>0.026940</td>\n",
       "      <td>-0.004744</td>\n",
       "      <td>-0.037424</td>\n",
       "      <td>0.202472</td>\n",
       "      <td>-0.150616</td>\n",
       "      <td>0.035932</td>\n",
       "      <td>-0.051822</td>\n",
       "      <td>0.092345</td>\n",
       "      <td>0.050768</td>\n",
       "      <td>-0.033644</td>\n",
       "    </tr>\n",
       "    <tr>\n",
       "      <th>Smoking</th>\n",
       "      <td>0.107764</td>\n",
       "      <td>0.023118</td>\n",
       "      <td>1.000000</td>\n",
       "      <td>0.111768</td>\n",
       "      <td>0.061226</td>\n",
       "      <td>0.115352</td>\n",
       "      <td>0.085157</td>\n",
       "      <td>0.120074</td>\n",
       "      <td>0.085052</td>\n",
       "      <td>0.128331</td>\n",
       "      <td>0.065499</td>\n",
       "      <td>0.053847</td>\n",
       "      <td>-0.097174</td>\n",
       "      <td>0.020625</td>\n",
       "      <td>-0.030336</td>\n",
       "      <td>0.024149</td>\n",
       "      <td>0.034920</td>\n",
       "      <td>0.033977</td>\n",
       "    </tr>\n",
       "    <tr>\n",
       "      <th>AlcoholDrinking</th>\n",
       "      <td>-0.032080</td>\n",
       "      <td>-0.038816</td>\n",
       "      <td>0.111768</td>\n",
       "      <td>1.000000</td>\n",
       "      <td>-0.019858</td>\n",
       "      <td>-0.017254</td>\n",
       "      <td>0.051282</td>\n",
       "      <td>-0.035328</td>\n",
       "      <td>0.004200</td>\n",
       "      <td>-0.059528</td>\n",
       "      <td>0.036702</td>\n",
       "      <td>-0.057372</td>\n",
       "      <td>0.017487</td>\n",
       "      <td>0.001629</td>\n",
       "      <td>-0.005065</td>\n",
       "      <td>-0.002202</td>\n",
       "      <td>-0.028280</td>\n",
       "      <td>-0.005702</td>\n",
       "    </tr>\n",
       "    <tr>\n",
       "      <th>Stroke</th>\n",
       "      <td>0.196835</td>\n",
       "      <td>0.019733</td>\n",
       "      <td>0.061226</td>\n",
       "      <td>-0.019858</td>\n",
       "      <td>1.000000</td>\n",
       "      <td>0.137014</td>\n",
       "      <td>0.046467</td>\n",
       "      <td>0.174143</td>\n",
       "      <td>-0.003091</td>\n",
       "      <td>0.137822</td>\n",
       "      <td>-0.003956</td>\n",
       "      <td>0.101518</td>\n",
       "      <td>-0.079455</td>\n",
       "      <td>-0.009335</td>\n",
       "      <td>0.011900</td>\n",
       "      <td>0.038866</td>\n",
       "      <td>0.091167</td>\n",
       "      <td>0.048116</td>\n",
       "    </tr>\n",
       "  </tbody>\n",
       "</table>\n",
       "</div>"
      ],
      "text/plain": [
       "                 HeartDisease       BMI   Smoking  AlcoholDrinking    Stroke  \\\n",
       "HeartDisease         1.000000  0.051803  0.107764        -0.032080  0.196835   \n",
       "BMI                  0.051803  1.000000  0.023118        -0.038816  0.019733   \n",
       "Smoking              0.107764  0.023118  1.000000         0.111768  0.061226   \n",
       "AlcoholDrinking     -0.032080 -0.038816  0.111768         1.000000 -0.019858   \n",
       "Stroke               0.196835  0.019733  0.061226        -0.019858  1.000000   \n",
       "\n",
       "                 PhysicalHealth  MentalHealth  DiffWalking       Sex  \\\n",
       "HeartDisease           0.170721      0.028591     0.201258  0.070040   \n",
       "BMI                    0.109788      0.064131     0.181678  0.026940   \n",
       "Smoking                0.115352      0.085157     0.120074  0.085052   \n",
       "AlcoholDrinking       -0.017254      0.051282    -0.035328  0.004200   \n",
       "Stroke                 0.137014      0.046467     0.174143 -0.003091   \n",
       "\n",
       "                 AgeCategory      Race  Diabetic  PhysicalActivity  GenHealth  \\\n",
       "HeartDisease        0.233432  0.034854  0.168553         -0.100030  -0.011062   \n",
       "BMI                -0.004744 -0.037424  0.202472         -0.150616   0.035932   \n",
       "Smoking             0.128331  0.065499  0.053847         -0.097174   0.020625   \n",
       "AlcoholDrinking    -0.059528  0.036702 -0.057372          0.017487   0.001629   \n",
       "Stroke              0.137822 -0.003956  0.101518         -0.079455  -0.009335   \n",
       "\n",
       "                 SleepTime    Asthma  KidneyDisease  SkinCancer  \n",
       "HeartDisease      0.008327  0.041444       0.145197    0.093317  \n",
       "BMI              -0.051822  0.092345       0.050768   -0.033644  \n",
       "Smoking          -0.030336  0.024149       0.034920    0.033977  \n",
       "AlcoholDrinking  -0.005065 -0.002202      -0.028280   -0.005702  \n",
       "Stroke            0.011900  0.038866       0.091167    0.048116  "
      ]
     },
     "execution_count": 3,
     "metadata": {},
     "output_type": "execute_result"
    }
   ],
   "source": [
    "heart_data.corr().head()"
   ]
  },
  {
   "cell_type": "code",
   "execution_count": 4,
   "id": "7a1a472d",
   "metadata": {},
   "outputs": [],
   "source": [
    "heart_data_similar = 1 - heart_data.corr()"
   ]
  },
  {
   "cell_type": "code",
   "execution_count": 5,
   "id": "c48792a4",
   "metadata": {
    "scrolled": true
   },
   "outputs": [
    {
     "name": "stderr",
     "output_type": "stream",
     "text": [
      "/var/folders/gv/wk0j3nmj1j1_b9jt3v5s17lr0000gn/T/ipykernel_974/2831785885.py:3: ClusterWarning: scipy.cluster: The symmetric non-negative hollow observation matrix looks suspiciously like an uncondensed distance matrix\n",
      "  hc.dendrogram(hc.linkage(heart_data_similar, method='complete'), labels=(heart_data_similar.columns))\n"
     ]
    },
    {
     "data": {
      "image/png": "[encoded data removed]",
      "text/plain": [
       "<Figure size 1000x800 with 1 Axes>"
      ]
     },
     "metadata": {},
     "output_type": "display_data"
    }
   ],
   "source": [
    "# Create dendrogram\n",
    "plt.figure(figsize=(10, 8))\n",
    "hc.dendrogram(hc.linkage(heart_data_similar, method='complete'), labels=(heart_data_similar.columns))\n",
    "plt.axhline(y=1.6,color='r')\n",
    "plt.title('Complete Linkage')\n",
    "plt.xticks(rotation=90,fontsize=10)\n",
    "plt.xlabel('Features')\n",
    "plt.ylabel('Euclidean distance')\n",
    "plt.show()"
   ]
  },
  {
   "cell_type": "markdown",
   "id": "29240241",
   "metadata": {},
   "source": [
    "The red line divide the features into four clusters."
   ]
  },
  {
   "cell_type": "code",
   "execution_count": 6,
   "id": "0a6fc891",
   "metadata": {},
   "outputs": [
    {
     "name": "stderr",
     "output_type": "stream",
     "text": [
      "/var/folders/gv/wk0j3nmj1j1_b9jt3v5s17lr0000gn/T/ipykernel_974/3299541502.py:1: ClusterWarning: scipy.cluster: The symmetric non-negative hollow observation matrix looks suspiciously like an uncondensed distance matrix\n",
      "  Clustering_result = hc.fcluster(hc.linkage(heart_data_similar,method='complete'),t=4,criterion = 'maxclust')\n"
     ]
    }
   ],
   "source": [
    "Clustering_result = hc.fcluster(hc.linkage(heart_data_similar,method='complete'),t=4,criterion = 'maxclust')"
   ]
  },
  {
   "cell_type": "code",
   "execution_count": 7,
   "id": "655e1833",
   "metadata": {},
   "outputs": [
    {
     "data": {
      "text/plain": [
       "Index(['Sex', 'PhysicalActivity'], dtype='object')"
      ]
     },
     "execution_count": 7,
     "metadata": {},
     "output_type": "execute_result"
    }
   ],
   "source": [
    "heart_data_similar[Clustering_result==1].index"
   ]
  },
  {
   "cell_type": "code",
   "execution_count": 8,
   "id": "11bcc4d8",
   "metadata": {},
   "outputs": [
    {
     "data": {
      "text/plain": [
       "Index(['HeartDisease', 'BMI', 'Stroke', 'PhysicalHealth', 'MentalHealth',\n",
       "       'DiffWalking', 'Diabetic', 'Asthma', 'KidneyDisease'],\n",
       "      dtype='object')"
      ]
     },
     "execution_count": 8,
     "metadata": {},
     "output_type": "execute_result"
    }
   ],
   "source": [
    "heart_data_similar[Clustering_result==2].index"
   ]
  },
  {
   "cell_type": "code",
   "execution_count": 9,
   "id": "8785caa0",
   "metadata": {},
   "outputs": [
    {
     "data": {
      "text/plain": [
       "Index(['AgeCategory', 'Race', 'SleepTime', 'SkinCancer'], dtype='object')"
      ]
     },
     "execution_count": 9,
     "metadata": {},
     "output_type": "execute_result"
    }
   ],
   "source": [
    "heart_data_similar[Clustering_result==3].index"
   ]
  },
  {
   "cell_type": "code",
   "execution_count": 10,
   "id": "77875fdd",
   "metadata": {},
   "outputs": [
    {
     "data": {
      "text/plain": [
       "Index(['Smoking', 'AlcoholDrinking', 'GenHealth'], dtype='object')"
      ]
     },
     "execution_count": 10,
     "metadata": {},
     "output_type": "execute_result"
    }
   ],
   "source": [
    "heart_data_similar[Clustering_result==4].index"
   ]
  },
  {
   "cell_type": "markdown",
   "id": "4d9e55ff",
   "metadata": {},
   "source": [
    "The features in a cluster has relatively high correlation. For example, we can see that features BMI, Stroke, PhysicalHealth, MentalHealth, DiffWalking, Diabetic, Asthma, KidneyDisease have relatively high correlation with our predicted dataframe heartdisease."
   ]
  },
  {
   "cell_type": "markdown",
   "id": "621da2c8",
   "metadata": {},
   "source": [
    "Next, we use hierarchical clustering to cluster the our data(without HeartDisease) into two clusters. We use single linkage for hierarchical clustering since the sizes of two clusters(0,1) are different and there is little noise in our data."
   ]
  },
  {
   "cell_type": "code",
   "execution_count": null,
   "id": "0e0f9f52",
   "metadata": {},
   "outputs": [],
   "source": [
    "Clustering_result_1 = hc.fcluster(hc.linkage(heart_data.drop('HeartDisease',axis=1),method='single'),t=2,criterion = 'maxclust')"
   ]
  },
  {
   "cell_type": "code",
   "execution_count": null,
   "id": "3cbea8fc",
   "metadata": {},
   "outputs": [],
   "source": [
    "heart_data_similar[Clustering_result_1==1].index"
   ]
  },
  {
   "cell_type": "code",
   "execution_count": null,
   "id": "6376b2b7",
   "metadata": {},
   "outputs": [],
   "source": [
    "heart_data_similar[Clustering_result_1==2].index"
   ]
  },
  {
   "cell_type": "code",
   "execution_count": null,
   "id": "605f8ed0",
   "metadata": {},
   "outputs": [],
   "source": []
  }
 ],
 "metadata": {
  "@webio": {
   "lastCommId": null,
   "lastKernelId": null
  },
  "kernelspec": {
   "display_name": "Python 3 (ipykernel)",
   "language": "python",
   "name": "python3"
  },
  "language_info": {
   "codemirror_mode": {
    "name": "ipython",
    "version": 3
   },
   "file_extension": ".py",
   "mimetype": "text/x-python",
   "name": "python",
   "nbconvert_exporter": "python",
   "pygments_lexer": "ipython3",
   "version": "3.10.4"
  }
 },
 "nbformat": 4,
 "nbformat_minor": 5
}
