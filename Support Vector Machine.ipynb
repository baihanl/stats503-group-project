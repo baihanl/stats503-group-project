{
 "cells": [
  {
   "cell_type": "code",
   "execution_count": 1,
   "id": "3f9b8927",
   "metadata": {},
   "outputs": [],
   "source": [
    "import pandas as pd\n",
    "import warnings\n",
    "warnings.filterwarnings('ignore')"
   ]
  },
  {
   "cell_type": "code",
   "execution_count": 2,
   "id": "12b028b8",
   "metadata": {},
   "outputs": [],
   "source": [
    "X_train = pd.read_csv('heart_data_train.csv').drop('HeartDisease',axis=1).iloc[: , 1:]\n",
    "y_train = pd.read_csv('heart_data_train.csv').HeartDisease\n",
    "X_test = pd.read_csv('heart_data_test.csv').drop('HeartDisease',axis=1).iloc[: , 1:]\n",
    "y_test = pd.read_csv('heart_data_test.csv').HeartDisease"
   ]
  },
  {
   "cell_type": "markdown",
   "id": "986094dc",
   "metadata": {},
   "source": [
    "Model fitting:"
   ]
  },
  {
   "cell_type": "code",
   "execution_count": 3,
   "id": "08b5289c",
   "metadata": {},
   "outputs": [],
   "source": [
    "from sklearn.svm import SVC # Import the SVM class from sklearn\n",
    "from sklearn.model_selection import train_test_split, GridSearchCV # For splitting data and performing Grid Search CV\n",
    "from sklearn.metrics import accuracy_score # For evaluating the accuracy of the model\n",
    "from sklearnex import patch_sklearn"
   ]
  },
  {
   "cell_type": "code",
   "execution_count": null,
   "id": "6599ad5d",
   "metadata": {},
   "outputs": [
    {
     "name": "stderr",
     "output_type": "stream",
     "text": [
      "Intel(R) Extension for Scikit-learn* enabled (https://github.com/intel/scikit-learn-intelex)\n"
     ]
    }
   ],
   "source": [
    "patch_sklearn()\n",
    "\n",
    "# Create an SVM model\n",
    "svm_model = SVC() # You can specify the kernel type and other hyperparameters later\n",
    "\n",
    "# Define the hyperparameter grid for parameter search\n",
    "param_grid = {\n",
    "    'C': [0.1, 1, 10], # Different values of regularization parameter C\n",
    "    'kernel': ['linear', 'rbf'], # Different kernel types\n",
    "    'gamma': ['scale', 'auto', 0.1, 1], # Different gamma values\n",
    "}\n",
    "\n",
    "# Create Grid Search CV object\n",
    "grid_search = GridSearchCV(svm_model, param_grid, cv=5) # 5-fold cross-validation\n",
    "\n",
    "# Train the SVM model with parameter search on the training data\n",
    "grid_search.fit(X_train[:10000], y_train[:10000])\n",
    "\n",
    "# Get the best parameters and best model from Grid Search CV\n",
    "best_params = grid_search.best_params_\n",
    "best_svm = grid_search.best_estimator_\n",
    "\n",
    "y_pred = best_svm.predict(X_test)\n",
    "y_pred_prob = best_svm.predict_proba(X_test)[:,1]"
   ]
  },
  {
   "cell_type": "markdown",
   "id": "329e87a0",
   "metadata": {},
   "source": [
    "Model Evaluations:"
   ]
  },
  {
   "cell_type": "code",
   "execution_count": null,
   "id": "86c0583e",
   "metadata": {},
   "outputs": [],
   "source": [
    "#from sklearn.preprocessing import StandardScaler\n",
    "from sklearn.metrics import roc_auc_score\n",
    "from sklearn.metrics import balanced_accuracy_score\n",
    "from sklearn.metrics import f1_score\n",
    "from sklearn.metrics import recall_score\n",
    "from sklearn.metrics import precision_score\n",
    "from sklearn.metrics import log_loss"
   ]
  },
  {
   "cell_type": "code",
   "execution_count": null,
   "id": "e910f8ea",
   "metadata": {},
   "outputs": [],
   "source": [
    "auc_score = roc_auc_score(y_test, y_pred_prob)\n",
    "ber_score = 1 - balanced_accuracy_score(y_test,y_pred)\n",
    "f1 = f1_score(y_test, y_pred)\n",
    "precision = precision_score(y_test, y_pred)\n",
    "recall = recall_score(y_test, y_pred)\n",
    "logloss = log_loss(y_test, y_pred, eps=1e-15)\n",
    "print(\"AUC Score: {:.2f}\".format(auc_score))\n",
    "print(\"BER Score: {:.2f}\".format(ber_score))\n",
    "print(\"f1 Score: {:.2f}\".format(f1))\n",
    "print(\"Precision Score: {:.2f}\".format(precision))\n",
    "print(\"Recall Score: {:.2f}\".format(recall))\n",
    "print(\"Log Loss Score: {:.2f}\".format(logloss))"
   ]
  },
  {
   "cell_type": "markdown",
   "id": "cd531023",
   "metadata": {},
   "source": [
    "Confusion Matrix:"
   ]
  },
  {
   "cell_type": "code",
   "execution_count": null,
   "id": "43cb1588",
   "metadata": {},
   "outputs": [],
   "source": [
    "from sklearn.metrics import confusion_matrix\n",
    "from sklearn.metrics import ConfusionMatrixDisplay\n",
    "import matplotlib.pyplot as plt\n",
    "\n",
    "cm_train = confusion_matrix(y_test, y_pred)\n",
    "cm_display = ConfusionMatrixDisplay(confusion_matrix = cm_train, display_labels = [1, 0])\n",
    "cm_display.plot()\n",
    "plt.show()"
   ]
  },
  {
   "cell_type": "code",
   "execution_count": null,
   "id": "1d1348f1",
   "metadata": {},
   "outputs": [],
   "source": [
    "ROC Curve:"
   ]
  },
  {
   "cell_type": "code",
   "execution_count": null,
   "id": "625f5fb4",
   "metadata": {},
   "outputs": [],
   "source": [
    "from sklearn.metrics import roc_curve, auc\n",
    "import matplotlib.pyplot as plt\n",
    "import numpy as np\n",
    "\n",
    "fpr, tpr, _ = roc_curve(y_test, y_pred_prob)\n",
    "roc_auc = auc(fpr, tpr)\n",
    "\n",
    "plt.figure()\n",
    "lw = 2\n",
    "plt.plot(fpr, tpr, color='darkorange', lw=lw, label='ROC curve (AUC = %0.2f)' % roc_auc)\n",
    "plt.plot([0, 1], [0, 1], color='navy', lw=lw, linestyle='--')\n",
    "plt.xlim([0.0, 1.0])\n",
    "plt.ylim([0.0, 1.05])\n",
    "plt.xlabel('False Positive Rate')\n",
    "plt.ylabel('True Positive Rate')\n",
    "plt.title('Receiver Operating Characteristic Example')\n",
    "plt.legend(loc=\"lower right\")\n",
    "plt.show()"
   ]
  },
  {
   "cell_type": "code",
   "execution_count": null,
   "id": "0f71d2f4",
   "metadata": {},
   "outputs": [],
   "source": []
  }
 ],
 "metadata": {
  "kernelspec": {
   "display_name": "Python 3 (ipykernel)",
   "language": "python",
   "name": "python3"
  },
  "language_info": {
   "codemirror_mode": {
    "name": "ipython",
    "version": 3
   },
   "file_extension": ".py",
   "mimetype": "text/x-python",
   "name": "python",
   "nbconvert_exporter": "python",
   "pygments_lexer": "ipython3",
   "version": "3.10.4"
  }
 },
 "nbformat": 4,
 "nbformat_minor": 5
}
